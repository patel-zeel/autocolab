{
 "cells": [
  {
   "cell_type": "markdown",
   "metadata": {},
   "source": [
    "<a href=\"https://colab.research.google.com/github/patel-zeel/autocolab/blob/main/scripts/iris_plot.ipynb\" target=\"_parent\"><img src=\"https://colab.research.google.com/assets/colab-badge.svg\" alt=\"Open In Colab\"/></a>"
   ]
  },
  {
   "cell_type": "code",
   "execution_count": null,
   "metadata": {},
   "outputs": [],
   "source": [
    "import numpy as np\n",
    "import matplotlib.pyplot as plt\n",
    "import os\n",
    "import pyprobml_utils as pml\n",
    "import seaborn as sns\n",
    "\n",
    "sns.set(style=\"ticks\", color_codes=True)\n",
    "\n",
    "import pandas as pd\n",
    "\n",
    "pd.set_option(\"precision\", 2)  # 2 decimal places\n",
    "pd.set_option(\"display.max_rows\", 20)\n",
    "pd.set_option(\"display.max_columns\", 30)\n",
    "pd.set_option(\"display.width\", 100)  # wide windows\n",
    "\n",
    "import sklearn\n",
    "from sklearn.datasets import load_iris"
   ]
  },
  {
   "cell_type": "code",
   "execution_count": null,
   "metadata": {},
   "outputs": [],
   "source": [
    "iris = load_iris()\n",
    "\n",
    "# Extract numpy arrays\n",
    "X = iris.data\n",
    "y = iris.target\n",
    "\n",
    "# Convert to pandas dataframe\n",
    "df = pd.DataFrame(data=X, columns=iris.feature_names)\n",
    "df[\"label\"] = pd.Series(iris.target_names[y], dtype=\"category\")\n",
    "\n",
    "# we pick a color map to match that used by decision tree graphviz\n",
    "# cmap = ListedColormap(['#fafab0','#a0faa0', '#9898ff']) # orange, green, blue/purple\n",
    "# cmap = ListedColormap(['orange', 'green', 'purple'])\n",
    "palette = {\"setosa\": \"orange\", \"versicolor\": \"green\", \"virginica\": \"purple\"}\n",
    "\n",
    "g = sns.pairplot(df, vars=df.columns[0:4], hue=\"label\", palette=palette)\n",
    "# g = sns.pairplot(df, vars = df.columns[0:4], hue=\"label\")\n",
    "pml.savefig(\"iris_scatterplot_purple.pdf\")\n",
    "plt.show()\n",
    "\n",
    "\n",
    "# Change colum names\n",
    "iris_df = df.copy()\n",
    "iris_df.columns = [\"sl\", \"sw\", \"pl\", \"pw\"] + [\"label\"]\n",
    "\n",
    "g = sns.pairplot(iris_df, vars=iris_df.columns[0:4], hue=\"label\")\n",
    "plt.tight_layout()\n",
    "pml.savefig(\"iris_pairplot.pdf\")\n",
    "plt.show()\n",
    "\n",
    "\n",
    "sns.stripplot(x=\"label\", y=\"sl\", data=iris_df, jitter=True)\n",
    "pml.savefig(\"iris_sepal_length_strip_plot.pdf\")\n",
    "plt.show()"
   ]
  }
 ],
 "metadata": {
  "jupytext": {
   "cell_metadata_filter": "-all",
   "main_language": "python",
   "notebook_metadata_filter": "-all"
  }
 },
 "nbformat": 4,
 "nbformat_minor": 2
}
